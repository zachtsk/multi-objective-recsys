{
 "cells": [
  {
   "cell_type": "code",
   "execution_count": 1,
   "metadata": {
    "collapsed": true,
    "pycharm": {
     "name": "#%%\n"
    }
   },
   "outputs": [],
   "source": [
    "import jsonlines"
   ]
  },
  {
   "cell_type": "code",
   "execution_count": 2,
   "outputs": [
    {
     "name": "stdout",
     "output_type": "stream",
     "text": [
      "{\"session\":0,\"events\":[{\"aid\":1517085,\"ts\":1659304800025,\"type\":\"clicks\"},{\"aid\":1563459,\"ts\":1659304904511,\"type\":\"clicks\"},{\"aid\":1309446,\"ts\":1659367439426,\"type\":\"clicks\"},{\"aid\":16246,\"ts\":1659367719997,\"type\":\"clicks\"},{\"aid\":1781822,\"ts\":1659367871344,\"type\":\"clicks\"},{\"aid\":1152674,\"ts\":1659367885796,\"type\":\"clicks\"},{\"aid\":1649869,\"ts\":1659369893840,\"type\":\"carts\"},{\"aid\":461689,\"ts\":1659369898050,\"type\":\"carts\"},{\"aid\":305831,\"ts\":1659370027105,\"type\":\"orders\"},{\"aid\":461689,\"ts\":1659370027105,\"type\":\"orders\"},{\"aid\":362233,\"ts\":1659370064916,\"type\":\"clicks\"},{\"aid\":1649869,\"ts\":1659370067686,\"type\":\"clicks\"},{\"aid\":1649869,\"ts\":1659371003682,\"type\":\"clicks\"},{\"aid\":984597,\"ts\":1659371033243,\"type\":\"clicks\"},{\"aid\":1649869,\"ts\":1659371042297,\"type\":\"clicks\"},{\"aid\":803544,\"ts\":1659371044075,\"type\":\"clicks\"},{\"aid\":1110941,\"ts\":1659371104329,\"type\":\"clicks\"},{\"aid\":1190046,\"ts\":1659371123063,\"type\":\"clicks\"},{\"aid\":1760685,\"ts\":1659375531385,\"type\":\"clicks\"},{\"aid\":631008,\"ts\"\n",
      "CPU times: total: 0 ns\n",
      "Wall time: 1 ms\n"
     ]
    }
   ],
   "source": [
    "%%time\n",
    "\"\"\"\n",
    "What does the file look like?\n",
    "\"\"\"\n",
    "with open(\"../data/train.jsonl\", \"r\") as file:\n",
    "    for i, line in enumerate(file):\n",
    "        if i > 0:\n",
    "            break\n",
    "        print(line[:1000])"
   ],
   "metadata": {
    "collapsed": false,
    "pycharm": {
     "name": "#%%\n"
    }
   }
  },
  {
   "cell_type": "code",
   "execution_count": null,
   "outputs": [],
   "source": [
    "%%time\n",
    "\"\"\"\n",
    "How long does it take to scan and parse the whole file in Python?\n",
    "\"\"\"\n",
    "# Open file in read-only mode\n",
    "with jsonlines.open(\"../data/train.jsonl\", \"r\") as reader:\n",
    "    # Iterate over parsed JSON objects\n",
    "    for i, obj in enumerate(reader):\n",
    "        if i % 1_000_000==0:\n",
    "            print(f\"Object: {i:,d}\")"
   ],
   "metadata": {
    "collapsed": false,
    "pycharm": {
     "name": "#%%\n"
    }
   }
  }
 ],
 "metadata": {
  "kernelspec": {
   "display_name": "Python 3",
   "language": "python",
   "name": "python3"
  },
  "language_info": {
   "codemirror_mode": {
    "name": "ipython",
    "version": 2
   },
   "file_extension": ".py",
   "mimetype": "text/x-python",
   "name": "python",
   "nbconvert_exporter": "python",
   "pygments_lexer": "ipython2",
   "version": "2.7.6"
  }
 },
 "nbformat": 4,
 "nbformat_minor": 0
}
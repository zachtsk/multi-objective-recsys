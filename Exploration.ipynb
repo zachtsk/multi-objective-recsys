{
 "cells": [
  {
   "cell_type": "code",
   "execution_count": 2,
   "metadata": {
    "collapsed": true,
    "pycharm": {
     "name": "#%%\n"
    }
   },
   "outputs": [],
   "source": [
    "import jsonlines"
   ]
  },
  {
   "cell_type": "code",
   "execution_count": 16,
   "outputs": [
    {
     "name": "stdout",
     "output_type": "stream",
     "text": [
      "{\"session\":0,\"events\":[{\"aid\":1517085,\"ts\":1659304800025,\"type\":\"clicks\"},{\"aid\":1563459,\"ts\":1659304904511,\"type\":\"clicks\"},{\"aid\":1309446,\"ts\":1659367439426,\"type\":\"clicks\"},{\"aid\":16246,\"ts\":1659367719997,\"type\":\"clicks\"},{\"aid\":1781822,\"ts\":1659367871344,\"type\":\"clicks\"},{\"aid\":1152674,\"ts\":1659367885796,\"type\":\"clicks\"},{\"aid\":1649869,\"ts\":1659369893840,\"type\":\"carts\"},{\"aid\":461689,\"ts\":1659369898050,\"type\":\"carts\"},{\"aid\":305831,\"ts\":1659370027105,\"type\":\"orders\"},{\"aid\":461689,\"ts\":1659370027105,\"type\":\"orders\"},{\"aid\":362233,\"ts\":1659370064916,\"type\":\"clicks\"},{\"aid\":1649869,\"ts\":1659370067686,\"type\":\"clicks\"},{\"aid\":1649869,\"ts\":1659371003682,\"type\":\"clicks\"},{\"aid\":984597,\"ts\":1659371033243,\"type\":\"clicks\"},{\"aid\":1649869,\"ts\":1659371042297,\"type\":\"clicks\"},{\"aid\":803544,\"ts\":1659371044075,\"type\":\"clicks\"},{\"aid\":1110941,\"ts\":1659371104329,\"type\":\"clicks\"},{\"aid\":1190046,\"ts\":1659371123063,\"type\":\"clicks\"},{\"aid\":1760685,\"ts\":1659375531385,\"type\":\"clicks\"},{\"aid\":631008,\"ts\"\n",
      "CPU times: total: 0 ns\n",
      "Wall time: 998 µs\n"
     ]
    }
   ],
   "source": [
    "%%time\n",
    "\"\"\"\n",
    "What does the file look like?\n",
    "\"\"\"\n",
    "with open(\"data/train.jsonl\", \"r\") as file:\n",
    "    for i, line in enumerate(file):\n",
    "        if i > 0:\n",
    "            break\n",
    "        print(line[:1000])"
   ],
   "metadata": {
    "collapsed": false,
    "pycharm": {
     "name": "#%%\n"
    }
   }
  },
  {
   "cell_type": "code",
   "execution_count": 17,
   "outputs": [
    {
     "name": "stdout",
     "output_type": "stream",
     "text": [
      "Object: 0\n",
      "Object: 1,000,000\n",
      "Object: 2,000,000\n",
      "Object: 3,000,000\n",
      "Object: 4,000,000\n",
      "Object: 5,000,000\n",
      "Object: 6,000,000\n",
      "Object: 7,000,000\n",
      "Object: 8,000,000\n",
      "Object: 9,000,000\n",
      "Object: 10,000,000\n",
      "Object: 11,000,000\n",
      "Object: 12,000,000\n",
      "CPU times: total: 4min 6s\n",
      "Wall time: 4min 6s\n"
     ]
    }
   ],
   "source": [
    "%%time\n",
    "\"\"\"\n",
    "How long does it take to scan and parse the whole file in Python?\n",
    "\"\"\"\n",
    "# Open file in read-only mode\n",
    "with jsonlines.open(\"data/train.jsonl\", \"r\") as reader:\n",
    "    # Iterate over parsed JSON objects\n",
    "    for i, obj in enumerate(reader):\n",
    "        if i % 1_000_000==0:\n",
    "            print(f\"Object: {i:,d}\")"
   ],
   "metadata": {
    "collapsed": false,
    "pycharm": {
     "name": "#%%\n"
    }
   }
  },
  {
   "cell_type": "code",
   "execution_count": 5,
   "outputs": [
    {
     "data": {
      "text/plain": "[{'session': 0,\n  'events': [{'aid': 1517085, 'ts': 1659304800025, 'type': 'clicks'},\n   {'aid': 1563459, 'ts': 1659304904511, 'type': 'clicks'},\n   {'aid': 1309446, 'ts': 1659367439426, 'type': 'clicks'},\n   {'aid': 16246, 'ts': 1659367719997, 'type': 'clicks'},\n   {'aid': 1781822, 'ts': 1659367871344, 'type': 'clicks'},\n   {'aid': 1152674, 'ts': 1659367885796, 'type': 'clicks'},\n   {'aid': 1649869, 'ts': 1659369893840, 'type': 'carts'},\n   {'aid': 461689, 'ts': 1659369898050, 'type': 'carts'},\n   {'aid': 305831, 'ts': 1659370027105, 'type': 'orders'},\n   {'aid': 461689, 'ts': 1659370027105, 'type': 'orders'},\n   {'aid': 362233, 'ts': 1659370064916, 'type': 'clicks'},\n   {'aid': 1649869, 'ts': 1659370067686, 'type': 'clicks'},\n   {'aid': 1649869, 'ts': 1659371003682, 'type': 'clicks'},\n   {'aid': 984597, 'ts': 1659371033243, 'type': 'clicks'},\n   {'aid': 1649869, 'ts': 1659371042297, 'type': 'clicks'},\n   {'aid': 803544, 'ts': 1659371044075, 'type': 'clicks'},\n   {'aid': 1110941, 'ts': 1659371104329, 'type': 'clicks'},\n   {'aid': 1190046, 'ts': 1659371123063, 'type': 'clicks'},\n   {'aid': 1760685, 'ts': 1659375531385, 'type': 'clicks'},\n   {'aid': 631008, 'ts': 1659375544399, 'type': 'clicks'},\n   {'aid': 461689, 'ts': 1659380437483, 'type': 'clicks'},\n   {'aid': 1190046, 'ts': 1659385092507, 'type': 'clicks'},\n   {'aid': 1650637, 'ts': 1659457550038, 'type': 'clicks'},\n   {'aid': 313546, 'ts': 1659457555000, 'type': 'clicks'},\n   {'aid': 1650637, 'ts': 1659457556864, 'type': 'clicks'},\n   {'aid': 979517, 'ts': 1659457682485, 'type': 'clicks'},\n   {'aid': 351157, 'ts': 1659457782214, 'type': 'clicks'},\n   {'aid': 1062149, 'ts': 1659457834849, 'type': 'clicks'},\n   {'aid': 1157384, 'ts': 1659457854818, 'type': 'clicks'},\n   {'aid': 1841388, 'ts': 1659457862516, 'type': 'clicks'},\n   {'aid': 1469630, 'ts': 1659531937070, 'type': 'clicks'},\n   {'aid': 305831, 'ts': 1659626326984, 'type': 'clicks'},\n   {'aid': 1110548, 'ts': 1659626335719, 'type': 'clicks'},\n   {'aid': 1110548, 'ts': 1659627788270, 'type': 'clicks'},\n   {'aid': 305831, 'ts': 1659627805792, 'type': 'clicks'},\n   {'aid': 1650114, 'ts': 1659632910630, 'type': 'clicks'},\n   {'aid': 1604396, 'ts': 1659639917844, 'type': 'clicks'},\n   {'aid': 1009750, 'ts': 1659640759156, 'type': 'clicks'},\n   {'aid': 1800933, 'ts': 1659640798950, 'type': 'clicks'},\n   {'aid': 495779, 'ts': 1659640818182, 'type': 'clicks'},\n   {'aid': 394655, 'ts': 1659640824817, 'type': 'clicks'},\n   {'aid': 495779, 'ts': 1659644609064, 'type': 'clicks'},\n   {'aid': 789245, 'ts': 1659710146448, 'type': 'clicks'},\n   {'aid': 789245, 'ts': 1659710157188, 'type': 'carts'},\n   {'aid': 366890, 'ts': 1659710161039, 'type': 'clicks'},\n   {'aid': 361317, 'ts': 1659710180137, 'type': 'clicks'},\n   {'aid': 1700164, 'ts': 1659710277855, 'type': 'clicks'},\n   {'aid': 1755597, 'ts': 1659710348943, 'type': 'clicks'},\n   {'aid': 789245, 'ts': 1659710506088, 'type': 'clicks'},\n   {'aid': 784978, 'ts': 1659710544821, 'type': 'clicks'},\n   {'aid': 1171505, 'ts': 1659710615253, 'type': 'clicks'},\n   {'aid': 784978, 'ts': 1659710636756, 'type': 'clicks'},\n   {'aid': 1700164, 'ts': 1659710643493, 'type': 'clicks'},\n   {'aid': 784978, 'ts': 1659710660397, 'type': 'clicks'},\n   {'aid': 1521766, 'ts': 1659729979807, 'type': 'clicks'},\n   {'aid': 1725503, 'ts': 1659774028031, 'type': 'clicks'},\n   {'aid': 528847, 'ts': 1659774232119, 'type': 'clicks'},\n   {'aid': 1816325, 'ts': 1659774337835, 'type': 'clicks'},\n   {'aid': 984597, 'ts': 1659774357892, 'type': 'clicks'},\n   {'aid': 1072782, 'ts': 1659775873688, 'type': 'clicks'},\n   {'aid': 173702, 'ts': 1659775934223, 'type': 'clicks'},\n   {'aid': 1072782, 'ts': 1659775940204, 'type': 'clicks'},\n   {'aid': 1407538, 'ts': 1659894272577, 'type': 'clicks'},\n   {'aid': 1629651, 'ts': 1659964140685, 'type': 'clicks'},\n   {'aid': 1768568, 'ts': 1660015113752, 'type': 'clicks'},\n   {'aid': 1318324, 'ts': 1660015128071, 'type': 'clicks'},\n   {'aid': 1840418, 'ts': 1660024261875, 'type': 'clicks'},\n   {'aid': 1813509, 'ts': 1660024355795, 'type': 'clicks'},\n   {'aid': 1813509, 'ts': 1660024376430, 'type': 'clicks'},\n   {'aid': 667924, 'ts': 1660024473559, 'type': 'clicks'},\n   {'aid': 1226444, 'ts': 1660024558718, 'type': 'clicks'},\n   {'aid': 709550, 'ts': 1660051792855, 'type': 'clicks'},\n   {'aid': 709417, 'ts': 1660051861065, 'type': 'clicks'},\n   {'aid': 1225559, 'ts': 1660051954808, 'type': 'clicks'},\n   {'aid': 1048044, 'ts': 1660051960145, 'type': 'clicks'},\n   {'aid': 1052813, 'ts': 1660051970995, 'type': 'clicks'},\n   {'aid': 1225559, 'ts': 1660157753080, 'type': 'clicks'},\n   {'aid': 240346, 'ts': 1660157783198, 'type': 'clicks'},\n   {'aid': 1582117, 'ts': 1660244973157, 'type': 'clicks'},\n   {'aid': 1707783, 'ts': 1660397387901, 'type': 'clicks'},\n   {'aid': 1624436, 'ts': 1660427603773, 'type': 'clicks'},\n   {'aid': 1157411, 'ts': 1660427638022, 'type': 'clicks'},\n   {'aid': 358305, 'ts': 1660427747431, 'type': 'clicks'},\n   {'aid': 1202970, 'ts': 1660487679331, 'type': 'clicks'},\n   {'aid': 832192, 'ts': 1660503007938, 'type': 'clicks'},\n   {'aid': 1498443, 'ts': 1660503022035, 'type': 'clicks'},\n   {'aid': 723931, 'ts': 1660544235597, 'type': 'clicks'},\n   {'aid': 1436439, 'ts': 1660544269960, 'type': 'clicks'},\n   {'aid': 1693461, 'ts': 1660544287455, 'type': 'clicks'},\n   {'aid': 1206554, 'ts': 1660544299221, 'type': 'clicks'},\n   {'aid': 1110741, 'ts': 1660546139893, 'type': 'clicks'},\n   {'aid': 346352, 'ts': 1660546161409, 'type': 'clicks'},\n   {'aid': 1802050, 'ts': 1660546183298, 'type': 'clicks'},\n   {'aid': 154930, 'ts': 1660546209381, 'type': 'clicks'},\n   {'aid': 964169, 'ts': 1660546305529, 'type': 'clicks'},\n   {'aid': 964169, 'ts': 1660560966498, 'type': 'clicks'},\n   {'aid': 823637, 'ts': 1660561030556, 'type': 'clicks'},\n   {'aid': 964169, 'ts': 1660561080714, 'type': 'clicks'},\n   {'aid': 1411683, 'ts': 1660561089802, 'type': 'clicks'},\n   {'aid': 964169, 'ts': 1660561117871, 'type': 'clicks'},\n   {'aid': 1167722, 'ts': 1660561126514, 'type': 'clicks'},\n   {'aid': 964169, 'ts': 1660561134273, 'type': 'clicks'},\n   {'aid': 1619737, 'ts': 1660561148997, 'type': 'clicks'},\n   {'aid': 964169, 'ts': 1660561164172, 'type': 'clicks'},\n   {'aid': 1840615, 'ts': 1660561171658, 'type': 'clicks'},\n   {'aid': 512756, 'ts': 1660609863481, 'type': 'clicks'},\n   {'aid': 946219, 'ts': 1660610026720, 'type': 'clicks'},\n   {'aid': 1090479, 'ts': 1660610071104, 'type': 'clicks'},\n   {'aid': 1164387, 'ts': 1660610121763, 'type': 'clicks'},\n   {'aid': 1308544, 'ts': 1660610152804, 'type': 'clicks'},\n   {'aid': 719622, 'ts': 1660628330847, 'type': 'clicks'},\n   {'aid': 1750538, 'ts': 1660628368623, 'type': 'clicks'},\n   {'aid': 1443747, 'ts': 1660628405346, 'type': 'clicks'},\n   {'aid': 1750538, 'ts': 1660628462681, 'type': 'clicks'},\n   {'aid': 337364, 'ts': 1660664901829, 'type': 'clicks'},\n   {'aid': 1653945, 'ts': 1660664961835, 'type': 'clicks'},\n   {'aid': 1222638, 'ts': 1660665033172, 'type': 'clicks'},\n   {'aid': 1622987, 'ts': 1660665303865, 'type': 'clicks'},\n   {'aid': 608383, 'ts': 1660665647387, 'type': 'clicks'},\n   {'aid': 1460239, 'ts': 1660739325748, 'type': 'clicks'},\n   {'aid': 1436439, 'ts': 1660739348796, 'type': 'clicks'},\n   {'aid': 321397, 'ts': 1660743499983, 'type': 'clicks'},\n   {'aid': 828625, 'ts': 1660743606777, 'type': 'clicks'},\n   {'aid': 1624436, 'ts': 1660744083719, 'type': 'clicks'},\n   {'aid': 1157411, 'ts': 1660744125198, 'type': 'clicks'},\n   {'aid': 1537907, 'ts': 1660744194187, 'type': 'clicks'},\n   {'aid': 1070142, 'ts': 1660744220834, 'type': 'clicks'},\n   {'aid': 959208, 'ts': 1660762627101, 'type': 'clicks'},\n   {'aid': 275288, 'ts': 1660801729835, 'type': 'clicks'},\n   {'aid': 1318324, 'ts': 1660801799774, 'type': 'clicks'},\n   {'aid': 1072782, 'ts': 1660801833403, 'type': 'clicks'},\n   {'aid': 1072782, 'ts': 1660801845183, 'type': 'clicks'},\n   {'aid': 173702, 'ts': 1660801854389, 'type': 'clicks'},\n   {'aid': 1428075, 'ts': 1660835311717, 'type': 'clicks'},\n   {'aid': 892659, 'ts': 1660895211775, 'type': 'clicks'},\n   {'aid': 1127565, 'ts': 1660895222884, 'type': 'clicks'},\n   {'aid': 1072782, 'ts': 1660895259741, 'type': 'clicks'},\n   {'aid': 97836, 'ts': 1660895309293, 'type': 'clicks'},\n   {'aid': 384343, 'ts': 1660983402330, 'type': 'clicks'},\n   {'aid': 218130, 'ts': 1661017911485, 'type': 'clicks'},\n   {'aid': 294248, 'ts': 1661017946037, 'type': 'clicks'},\n   {'aid': 166547, 'ts': 1661017956449, 'type': 'clicks'},\n   {'aid': 504365, 'ts': 1661017998816, 'type': 'clicks'},\n   {'aid': 102416, 'ts': 1661019639174, 'type': 'clicks'},\n   {'aid': 30373, 'ts': 1661103687164, 'type': 'clicks'},\n   {'aid': 724999, 'ts': 1661103701418, 'type': 'clicks'},\n   {'aid': 1110548, 'ts': 1661103727767, 'type': 'clicks'},\n   {'aid': 10268, 'ts': 1661157951797, 'type': 'clicks'},\n   {'aid': 219925, 'ts': 1661157962188, 'type': 'clicks'},\n   {'aid': 1140855, 'ts': 1661157993281, 'type': 'clicks'},\n   {'aid': 915702, 'ts': 1661158034888, 'type': 'clicks'},\n   {'aid': 480578, 'ts': 1661158090652, 'type': 'clicks'},\n   {'aid': 1145803, 'ts': 1661158184827, 'type': 'clicks'},\n   {'aid': 480578, 'ts': 1661158189101, 'type': 'clicks'},\n   {'aid': 516456, 'ts': 1661158253105, 'type': 'clicks'},\n   {'aid': 536842, 'ts': 1661158285058, 'type': 'clicks'},\n   {'aid': 1446430, 'ts': 1661206127572, 'type': 'clicks'},\n   {'aid': 581169, 'ts': 1661240249947, 'type': 'clicks'},\n   {'aid': 976007, 'ts': 1661240257635, 'type': 'clicks'},\n   {'aid': 667322, 'ts': 1661240281936, 'type': 'clicks'},\n   {'aid': 1801525, 'ts': 1661240292181, 'type': 'clicks'},\n   {'aid': 1767945, 'ts': 1661240318161, 'type': 'clicks'},\n   {'aid': 1342014, 'ts': 1661240345599, 'type': 'clicks'},\n   {'aid': 1813509, 'ts': 1661289160324, 'type': 'clicks'},\n   {'aid': 1785321, 'ts': 1661289218136, 'type': 'clicks'},\n   {'aid': 1813509, 'ts': 1661289227315, 'type': 'clicks'},\n   {'aid': 1840615, 'ts': 1661289238313, 'type': 'clicks'},\n   {'aid': 1689148, 'ts': 1661289299389, 'type': 'clicks'},\n   {'aid': 1840615, 'ts': 1661289311093, 'type': 'clicks'},\n   {'aid': 72748, 'ts': 1661326681916, 'type': 'clicks'},\n   {'aid': 1049280, 'ts': 1661326752479, 'type': 'clicks'},\n   {'aid': 1436439, 'ts': 1661326789241, 'type': 'clicks'},\n   {'aid': 6851, 'ts': 1661326818142, 'type': 'clicks'},\n   {'aid': 1433235, 'ts': 1661326995238, 'type': 'clicks'},\n   {'aid': 7563, 'ts': 1661336115924, 'type': 'clicks'},\n   {'aid': 1766089, 'ts': 1661336145432, 'type': 'clicks'},\n   {'aid': 7563, 'ts': 1661336153894, 'type': 'clicks'},\n   {'aid': 570955, 'ts': 1661336161993, 'type': 'clicks'},\n   {'aid': 1766089, 'ts': 1661336182348, 'type': 'clicks'},\n   {'aid': 570955, 'ts': 1661336206826, 'type': 'clicks'},\n   {'aid': 974651, 'ts': 1661336218155, 'type': 'carts'},\n   {'aid': 974651, 'ts': 1661336222447, 'type': 'clicks'},\n   {'aid': 974651, 'ts': 1661336225076, 'type': 'carts'},\n   {'aid': 974651, 'ts': 1661336252514, 'type': 'carts'},\n   {'aid': 280978, 'ts': 1661336260024, 'type': 'carts'},\n   {'aid': 1521766, 'ts': 1661336265942, 'type': 'carts'},\n   {'aid': 661144, 'ts': 1661377452536, 'type': 'clicks'},\n   {'aid': 1760145, 'ts': 1661377467092, 'type': 'carts'},\n   {'aid': 1639229, 'ts': 1661377507795, 'type': 'clicks'},\n   {'aid': 1624436, 'ts': 1661377547329, 'type': 'clicks'},\n   {'aid': 738987, 'ts': 1661377571633, 'type': 'clicks'},\n   {'aid': 1436439, 'ts': 1661422036465, 'type': 'clicks'},\n   {'aid': 102416, 'ts': 1661441640992, 'type': 'clicks'},\n   {'aid': 190818, 'ts': 1661547489220, 'type': 'clicks'},\n   {'aid': 1157411, 'ts': 1661547534713, 'type': 'clicks'},\n   {'aid': 138431, 'ts': 1661547574171, 'type': 'clicks'},\n   {'aid': 543308, 'ts': 1661547622300, 'type': 'clicks'},\n   {'aid': 1760145, 'ts': 1661547680429, 'type': 'clicks'},\n   {'aid': 543308, 'ts': 1661547702839, 'type': 'clicks'},\n   {'aid': 275288, 'ts': 1661550299698, 'type': 'carts'},\n   {'aid': 275288, 'ts': 1661550315976, 'type': 'clicks'},\n   {'aid': 1760145, 'ts': 1661550323287, 'type': 'clicks'},\n   {'aid': 974651, 'ts': 1661550339661, 'type': 'clicks'},\n   {'aid': 974651, 'ts': 1661550341792, 'type': 'carts'},\n   {'aid': 1760145, 'ts': 1661550346913, 'type': 'clicks'},\n   {'aid': 570955, 'ts': 1661550376132, 'type': 'clicks'},\n   {'aid': 661144, 'ts': 1661550391128, 'type': 'clicks'},\n   {'aid': 362233, 'ts': 1661551907312, 'type': 'clicks'},\n   {'aid': 362233, 'ts': 1661551914311, 'type': 'clicks'},\n   {'aid': 1760145, 'ts': 1661551920731, 'type': 'clicks'},\n   {'aid': 275288, 'ts': 1661551929652, 'type': 'clicks'},\n   {'aid': 974651, 'ts': 1661551935480, 'type': 'clicks'},\n   {'aid': 543308, 'ts': 1661551961976, 'type': 'clicks'},\n   {'aid': 624343, 'ts': 1661552027429, 'type': 'clicks'},\n   {'aid': 543308, 'ts': 1661552069889, 'type': 'clicks'},\n   {'aid': 723612, 'ts': 1661552073985, 'type': 'clicks'},\n   {'aid': 543308, 'ts': 1661552079343, 'type': 'clicks'},\n   {'aid': 543308, 'ts': 1661552090532, 'type': 'carts'},\n   {'aid': 543308, 'ts': 1661552094001, 'type': 'carts'},\n   {'aid': 442293, 'ts': 1661552175174, 'type': 'clicks'},\n   {'aid': 442293, 'ts': 1661552201727, 'type': 'carts'},\n   {'aid': 442293, 'ts': 1661552224613, 'type': 'clicks'},\n   {'aid': 442293, 'ts': 1661552237234, 'type': 'clicks'},\n   {'aid': 171073, 'ts': 1661552249672, 'type': 'clicks'},\n   {'aid': 851778, 'ts': 1661552276235, 'type': 'clicks'},\n   {'aid': 976134, 'ts': 1661552295471, 'type': 'clicks'},\n   {'aid': 856506, 'ts': 1661552321092, 'type': 'clicks'},\n   {'aid': 1549618, 'ts': 1661552356671, 'type': 'carts'},\n   {'aid': 419161, 'ts': 1661552370948, 'type': 'clicks'},\n   {'aid': 543308, 'ts': 1661552394168, 'type': 'clicks'},\n   {'aid': 1549618, 'ts': 1661552536107, 'type': 'clicks'},\n   {'aid': 760277, 'ts': 1661552615456, 'type': 'clicks'},\n   {'aid': 1549618, 'ts': 1661552638423, 'type': 'clicks'},\n   {'aid': 702179, 'ts': 1661552645018, 'type': 'clicks'},\n   {'aid': 1549618, 'ts': 1661552648034, 'type': 'clicks'},\n   {'aid': 1587393, 'ts': 1661552650883, 'type': 'clicks'},\n   {'aid': 76358, 'ts': 1661552661754, 'type': 'clicks'},\n   {'aid': 1549618, 'ts': 1661552673593, 'type': 'clicks'},\n   {'aid': 1199474, 'ts': 1661552684092, 'type': 'clicks'},\n   {'aid': 1199474, 'ts': 1661552744284, 'type': 'carts'},\n   {'aid': 1386923, 'ts': 1661552755361, 'type': 'clicks'},\n   {'aid': 1055124, 'ts': 1661552768406, 'type': 'clicks'},\n   {'aid': 859697, 'ts': 1661552785728, 'type': 'clicks'},\n   {'aid': 1055124, 'ts': 1661552791386, 'type': 'clicks'},\n   {'aid': 1386923, 'ts': 1661552794455, 'type': 'clicks'},\n   {'aid': 1199474, 'ts': 1661552940651, 'type': 'orders'},\n   {'aid': 543308, 'ts': 1661552940651, 'type': 'orders'},\n   {'aid': 961113, 'ts': 1661562901716, 'type': 'clicks'},\n   {'aid': 883849, 'ts': 1661563120145, 'type': 'clicks'},\n   {'aid': 701766, 'ts': 1661586370237, 'type': 'clicks'},\n   {'aid': 924751, 'ts': 1661586382407, 'type': 'clicks'},\n   {'aid': 168206, 'ts': 1661586401880, 'type': 'clicks'},\n   {'aid': 924751, 'ts': 1661591004580, 'type': 'clicks'},\n   {'aid': 219033, 'ts': 1661593840839, 'type': 'clicks'},\n   {'aid': 171982, 'ts': 1661593852385, 'type': 'clicks'},\n   {'aid': 1319939, 'ts': 1661607646300, 'type': 'clicks'},\n   {'aid': 1349536, 'ts': 1661607734014, 'type': 'clicks'},\n   {'aid': 334392, 'ts': 1661607781173, 'type': 'clicks'},\n   {'aid': 1349536, 'ts': 1661607810151, 'type': 'clicks'},\n   {'aid': 1349536, 'ts': 1661634295803, 'type': 'clicks'},\n   {'aid': 165096, 'ts': 1661634321351, 'type': 'clicks'},\n   {'aid': 315914, 'ts': 1661634351420, 'type': 'clicks'},\n   {'aid': 315914, 'ts': 1661634431593, 'type': 'carts'},\n   {'aid': 1680276, 'ts': 1661634664923, 'type': 'clicks'},\n   {'aid': 1818905, 'ts': 1661634688122, 'type': 'clicks'},\n   {'aid': 334392, 'ts': 1661634725193, 'type': 'clicks'},\n   {'aid': 1048797, 'ts': 1661634830704, 'type': 'clicks'},\n   {'aid': 1048797, 'ts': 1661673496255, 'type': 'clicks'},\n   {'aid': 543308, 'ts': 1661682228301, 'type': 'clicks'},\n   {'aid': 341626, 'ts': 1661684136178, 'type': 'clicks'},\n   {'aid': 219925, 'ts': 1661684258732, 'type': 'clicks'},\n   {'aid': 843110, 'ts': 1661684298768, 'type': 'clicks'},\n   {'aid': 938007, 'ts': 1661684355390, 'type': 'clicks'},\n   {'aid': 1228848, 'ts': 1661684528943, 'type': 'clicks'},\n   {'aid': 1740927, 'ts': 1661684942173, 'type': 'clicks'},\n   {'aid': 161938, 'ts': 1661684983707, 'type': 'clicks'}]},\n {'session': 1,\n  'events': [{'aid': 424964, 'ts': 1659304800025, 'type': 'carts'},\n   {'aid': 1492293, 'ts': 1659304852871, 'type': 'clicks'},\n   {'aid': 1492293, 'ts': 1659304863627, 'type': 'carts'},\n   {'aid': 910862, 'ts': 1659304891923, 'type': 'clicks'},\n   {'aid': 910862, 'ts': 1659304900209, 'type': 'carts'},\n   {'aid': 1491172, 'ts': 1659385939248, 'type': 'clicks'},\n   {'aid': 1491172, 'ts': 1659385945915, 'type': 'carts'},\n   {'aid': 424964, 'ts': 1659385993848, 'type': 'clicks'},\n   {'aid': 1515526, 'ts': 1659386025990, 'type': 'clicks'},\n   {'aid': 440486, 'ts': 1659473014870, 'type': 'clicks'},\n   {'aid': 109488, 'ts': 1659473065576, 'type': 'clicks'},\n   {'aid': 1507622, 'ts': 1659473076244, 'type': 'clicks'},\n   {'aid': 1734061, 'ts': 1659855882096, 'type': 'clicks'},\n   {'aid': 854637, 'ts': 1659990929876, 'type': 'clicks'},\n   {'aid': 854637, 'ts': 1659990941327, 'type': 'carts'},\n   {'aid': 718983, 'ts': 1659990943793, 'type': 'clicks'},\n   {'aid': 215311, 'ts': 1659990959575, 'type': 'clicks'},\n   {'aid': 215311, 'ts': 1659990964841, 'type': 'carts'},\n   {'aid': 718983, 'ts': 1659990982524, 'type': 'clicks'},\n   {'aid': 711125, 'ts': 1659991046608, 'type': 'clicks'},\n   {'aid': 711125, 'ts': 1659991053886, 'type': 'carts'},\n   {'aid': 50049, 'ts': 1659991115562, 'type': 'clicks'},\n   {'aid': 105393, 'ts': 1659991156255, 'type': 'clicks'},\n   {'aid': 105393, 'ts': 1659991168139, 'type': 'carts'},\n   {'aid': 959544, 'ts': 1659991199405, 'type': 'clicks'},\n   {'aid': 1734061, 'ts': 1660431511439, 'type': 'clicks'},\n   {'aid': 1842593, 'ts': 1660857067556, 'type': 'clicks'},\n   {'aid': 1464360, 'ts': 1661447432716, 'type': 'clicks'},\n   {'aid': 207905, 'ts': 1661686200666, 'type': 'clicks'},\n   {'aid': 1628317, 'ts': 1661686382213, 'type': 'clicks'},\n   {'aid': 376932, 'ts': 1661705869789, 'type': 'clicks'},\n   {'aid': 497868, 'ts': 1661714854992, 'type': 'clicks'}]},\n {'session': 2,\n  'events': [{'aid': 763743, 'ts': 1659304800038, 'type': 'clicks'},\n   {'aid': 137492, 'ts': 1659304866606, 'type': 'clicks'},\n   {'aid': 504789, 'ts': 1659304915207, 'type': 'clicks'},\n   {'aid': 137492, 'ts': 1659304958696, 'type': 'clicks'},\n   {'aid': 795863, 'ts': 1659304994282, 'type': 'clicks'},\n   {'aid': 378348, 'ts': 1659305021112, 'type': 'clicks'},\n   {'aid': 795863, 'ts': 1659305036090, 'type': 'clicks'},\n   {'aid': 26638, 'ts': 1659305052151, 'type': 'clicks'},\n   {'aid': 817441, 'ts': 1659305078044, 'type': 'clicks'},\n   {'aid': 1405904, 'ts': 1660521816369, 'type': 'clicks'},\n   {'aid': 545290, 'ts': 1660521863958, 'type': 'clicks'},\n   {'aid': 935830, 'ts': 1660522601704, 'type': 'clicks'},\n   {'aid': 935830, 'ts': 1660577379651, 'type': 'clicks'},\n   {'aid': 1593105, 'ts': 1661687946158, 'type': 'clicks'},\n   {'aid': 427698, 'ts': 1661688036394, 'type': 'clicks'},\n   {'aid': 414004, 'ts': 1661688085306, 'type': 'clicks'},\n   {'aid': 465360, 'ts': 1661688123811, 'type': 'clicks'},\n   {'aid': 526287, 'ts': 1661688163688, 'type': 'clicks'},\n   {'aid': 567119, 'ts': 1661688208181, 'type': 'clicks'},\n   {'aid': 1577398, 'ts': 1661688278111, 'type': 'clicks'},\n   {'aid': 161269, 'ts': 1661688306838, 'type': 'carts'},\n   {'aid': 1577398, 'ts': 1661688311263, 'type': 'clicks'},\n   {'aid': 78519, 'ts': 1661688427862, 'type': 'clicks'},\n   {'aid': 1605583, 'ts': 1661713530602, 'type': 'clicks'},\n   {'aid': 690631, 'ts': 1661713565531, 'type': 'clicks'},\n   {'aid': 295985, 'ts': 1661713601647, 'type': 'clicks'},\n   {'aid': 553269, 'ts': 1661713659417, 'type': 'clicks'},\n   {'aid': 555062, 'ts': 1661713715463, 'type': 'clicks'},\n   {'aid': 1605711, 'ts': 1661713745791, 'type': 'clicks'},\n   {'aid': 485582, 'ts': 1661713918745, 'type': 'clicks'},\n   {'aid': 477910, 'ts': 1661714012521, 'type': 'clicks'},\n   {'aid': 808782, 'ts': 1661714094293, 'type': 'clicks'},\n   {'aid': 672473, 'ts': 1661714215659, 'type': 'clicks'}]}]"
     },
     "execution_count": 5,
     "metadata": {},
     "output_type": "execute_result"
    }
   ],
   "source": [
    "sessions"
   ],
   "metadata": {
    "collapsed": false,
    "pycharm": {
     "name": "#%%\n"
    }
   }
  }
 ],
 "metadata": {
  "kernelspec": {
   "display_name": "Python 3",
   "language": "python",
   "name": "python3"
  },
  "language_info": {
   "codemirror_mode": {
    "name": "ipython",
    "version": 2
   },
   "file_extension": ".py",
   "mimetype": "text/x-python",
   "name": "python",
   "nbconvert_exporter": "python",
   "pygments_lexer": "ipython2",
   "version": "2.7.6"
  }
 },
 "nbformat": 4,
 "nbformat_minor": 0
}
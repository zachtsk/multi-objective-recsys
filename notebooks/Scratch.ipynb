{
 "cells": [
  {
   "cell_type": "code",
   "execution_count": null,
   "id": "ad2983aa",
   "metadata": {},
   "outputs": [],
   "source": [
    "import os\n",
    "import sys\n",
    "sys.path.insert(0, os.path.abspath('../brain'))"
   ]
  },
  {
   "cell_type": "code",
   "execution_count": null,
   "id": "3a303c49-cee0-4d74-ae82-65b6f4ae53cf",
   "metadata": {},
   "outputs": [],
   "source": [
    "!pip install jsonlines"
   ]
  },
  {
   "cell_type": "code",
   "execution_count": null,
   "id": "c2ee7364",
   "metadata": {},
   "outputs": [],
   "source": [
    "from jsonlines import jsonlines\n",
    "from config import LocalConfig as config\n",
    "\n",
    "sessions = []\n",
    "with jsonlines.open(config.train_jsonl_fp, \"r\") as reader:\n",
    "    # Iterate over parsed JSON objects\n",
    "    for i, obj in enumerate(reader):\n",
    "        if i > 100_000:\n",
    "            break\n",
    "        # Combine 'session' and 'events' values for each object\n",
    "        adj_obj = [x | dict(session=obj[\"session\"]) for x in obj[\"events\"]]\n",
    "        sessions.extend(adj_obj)"
   ]
  },
  {
   "cell_type": "markdown",
   "id": "cc20dad9-d0f9-4fc4-8983-d303c4b01401",
   "metadata": {},
   "source": [
    "# PySpark Implementation"
   ]
  },
  {
   "cell_type": "code",
   "execution_count": 8,
   "id": "3df905a1-9f36-499f-a854-27734097c4ca",
   "metadata": {},
   "outputs": [],
   "source": [
    "import os\n",
    "import sys\n",
    "sys.path.insert(0, os.path.abspath('../'))"
   ]
  },
  {
   "cell_type": "code",
   "execution_count": 10,
   "id": "6ccbd6c3",
   "metadata": {},
   "outputs": [],
   "source": [
    "from brain.config import LocalConfig as config"
   ]
  },
  {
   "cell_type": "code",
   "execution_count": 11,
   "id": "ef2b5094-6017-42d8-9134-5dfc9b4b10cf",
   "metadata": {},
   "outputs": [],
   "source": [
    "from brain.scratch import normalize_data"
   ]
  },
  {
   "cell_type": "code",
   "execution_count": 12,
   "id": "644e23fe-2b22-4acd-8b1a-f24488cd101e",
   "metadata": {},
   "outputs": [
    {
     "name": "stdout",
     "output_type": "stream",
     "text": [
      "CPU times: user 14.7 ms, sys: 15 ms, total: 29.7 ms\n",
      "Wall time: 9.21 s\n"
     ]
    }
   ],
   "source": [
    "%%time\n",
    "normalize_data(config, 'test', 100)"
   ]
  }
 ],
 "metadata": {
  "kernelspec": {
   "display_name": "Python 3 (ipykernel)",
   "language": "python",
   "name": "python3"
  },
  "language_info": {
   "codemirror_mode": {
    "name": "ipython",
    "version": 3
   },
   "file_extension": ".py",
   "mimetype": "text/x-python",
   "name": "python",
   "nbconvert_exporter": "python",
   "pygments_lexer": "ipython3",
   "version": "3.10.8"
  }
 },
 "nbformat": 4,
 "nbformat_minor": 5
}
